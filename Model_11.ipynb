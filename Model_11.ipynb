{
 "cells": [
  {
   "cell_type": "code",
   "execution_count": 1,
   "metadata": {
    "colab": {},
    "colab_type": "code",
    "id": "cnjBn-g6nu44"
   },
   "outputs": [],
   "source": [
    "import pandas as pd\n",
    "import numpy as np\n",
    "from tqdm import tqdm\n",
    "import copy\n",
    "import sklearn\n",
    "\n",
    "import os\n",
    "import pandas as pd\n",
    "from sklearn.ensemble import RandomForestClassifier, GradientBoostingClassifier, AdaBoostClassifier\n",
    "from sklearn.model_selection import StratifiedKFold, RandomizedSearchCV\n",
    "from sklearn.model_selection import GridSearchCV\n",
    "from sklearn.model_selection import train_test_split\n",
    "from scipy.stats import uniform as sp_randFloat\n",
    "from scipy.stats import randint as sp_randInt\n",
    "from sklearn import preprocessing\n",
    "from sklearn import metrics\n",
    "import numpy as np\n",
    "import pandas as pd\n",
    "from time import time\n",
    "import pprint\n",
    "import joblib\n",
    "from xgboost.sklearn import XGBClassifier \n",
    "import numpy as np\n",
    "from xgboost import XGBClassifier\n",
    "from bayes_opt import BayesianOptimization\n",
    "from sklearn.model_selection import cross_val_score\n",
    "\n",
    "import warnings\n",
    "warnings.filterwarnings(\"ignore\")\n",
    "\n",
    "# Classifiers\n",
    "from catboost import CatBoostClassifier\n",
    "\n",
    "# Model selection\n",
    "from sklearn.model_selection import StratifiedKFold\n",
    "\n",
    "# Metrics\n",
    "from sklearn.metrics import roc_auc_score\n",
    "from sklearn.metrics import make_scorer\n",
    "\n",
    "# Skopt functions\n",
    "from skopt import BayesSearchCV\n",
    "from skopt.callbacks import DeadlineStopper, VerboseCallback, DeltaXStopper\n",
    "from skopt.space import Real, Categorical, Integer\n",
    "from time import time"
   ]
  },
  {
   "cell_type": "code",
   "execution_count": 2,
   "metadata": {
    "colab": {},
    "colab_type": "code",
    "id": "XxRbafDEoodQ"
   },
   "outputs": [],
   "source": [
    "train_ = pd.read_csv('Train.csv')\n",
    "test_ = pd.read_csv('Test.csv')\n",
    "submission_ = pd.read_csv('SampleSubmission.csv')"
   ]
  },
  {
   "cell_type": "code",
   "execution_count": 3,
   "metadata": {
    "colab": {},
    "colab_type": "code",
    "id": "pWgw40xZo0uk"
   },
   "outputs": [],
   "source": [
    "from sklearn.model_selection import KFold\n",
    "fold_train = []\n",
    "kf = KFold(n_splits=5, shuffle=False)\n",
    "for r, (train_index, test_index) in enumerate(kf.split(train_)):\n",
    "    test = train_.iloc[test_index]\n",
    "\n",
    "    X_test = []\n",
    "    X_test_columns = test.columns\n",
    "    for v in test.values:\n",
    "        info = v[:8]\n",
    "        binary = v[8:]\n",
    "        index = [k for k, i in enumerate(binary) if i == 1]\n",
    "        for i in index:\n",
    "            for k in range(len(binary)):\n",
    "                if k == i:\n",
    "                    binary_transformed = list(copy.copy(binary))\n",
    "                    binary_transformed[i] = 0\n",
    "                    X_test.append(list(info) + binary_transformed + [8+k])\n",
    "\n",
    "    X_test = pd.DataFrame(X_test)\n",
    "    X_test.columns = ['ID', 'join_date', 'sex', 'marital_status', 'birth_year', 'branch_code',\n",
    "          'occupation_code', 'occupation_category_code', 'P5DA', 'RIBP', '8NN1',\n",
    "          '7POT', '66FJ', 'GYSR', 'SOP4', 'RVSZ', 'PYUQ', 'LJR9', 'N2MW', 'AHXO',\n",
    "          'BSTQ', 'FM3X', 'K6QO', 'QBOL', 'JWFN', 'JZ9D', 'J9JW', 'GHYX', 'ECY3', 'product_num']\n",
    "\n",
    "    X_test['ID'] = [str(r)+'_'+str(i) for i in range(X_test.shape[0])]\n",
    "\n",
    "    test = []\n",
    "    test_columns = X_test.columns\n",
    "\n",
    "    for v in X_test.values:\n",
    "        info = v[:8]\n",
    "        binary = v[8:-1]\n",
    "        num = v[-1]\n",
    "        index = [k for k, i in enumerate(binary) if i == 1]\n",
    "        for k in range(len(binary)):\n",
    "            if k not in index:\n",
    "                if 8+k == num:\n",
    "                    test.append(list(info) + list(binary) + [test_columns[8+k]] + [1])\n",
    "                else:\n",
    "                    test.append(list(info) + list(binary) + [test_columns[8+k]] + [0])\n",
    "    test = pd.DataFrame(test)\n",
    "    test.columns = ['ID', 'join_date', 'sex', 'marital_status', 'birth_year', 'branch_code',\n",
    "        'occupation_code', 'occupation_category_code', 'P5DA', 'RIBP', '8NN1',\n",
    "        '7POT', '66FJ', 'GYSR', 'SOP4', 'RVSZ', 'PYUQ', 'LJR9', 'N2MW', 'AHXO',\n",
    "        'BSTQ', 'FM3X', 'K6QO', 'QBOL', 'JWFN', 'JZ9D', 'J9JW', 'GHYX', 'ECY3', 'product_pred', 'target']\n",
    "\n",
    "    test = test[['ID', 'product_pred', 'target']]\n",
    "    test['ID X PCODE'] = test['ID'] + ' X ' + test['product_pred']\n",
    "    del test['ID'], test['product_pred']\n",
    "    test.columns = ['Label', 'ID X PCODE']\n",
    "\n",
    "    submit1 = pd.read_csv('0_fold' + str(r) + '.csv')\n",
    "    submit2 = pd.read_csv('1_fold' + str(r) + '.csv')\n",
    "    submit3 = pd.read_csv('2_fold' + str(r) + '.csv')\n",
    "\n",
    "    test = test.merge(submit1, how='left', on='ID X PCODE')\n",
    "    test = test.merge(submit2, how='left', on='ID X PCODE')\n",
    "    test = test.merge(submit3, how='left', on='ID X PCODE')\n",
    "\n",
    "    test.columns = ['target', 'ID X PCODE', 'Label1', 'Label2', 'Label3']\n",
    "\n",
    "    fold_train.append(test)\n",
    "\n",
    "fold_train = pd.concat(fold_train)"
   ]
  },
  {
   "cell_type": "code",
   "execution_count": 4,
   "metadata": {
    "colab": {},
    "colab_type": "code",
    "id": "rFFG8Jg9Iq93"
   },
   "outputs": [],
   "source": [
    "test = []\n",
    "test_columns = test_.columns\n",
    "\n",
    "for v in test_.values:\n",
    "    info = v[:8]\n",
    "    binary = v[8:]\n",
    "    index = [k for k, i in enumerate(binary) if i == 1]\n",
    "    for k in range(len(binary)):\n",
    "        if k not in index:\n",
    "            test.append(list(info) + list(binary) + [test_columns[8+k]])\n",
    "test = pd.DataFrame(test)\n",
    "test.columns = ['ID', 'join_date', 'sex', 'marital_status', 'birth_year', 'branch_code',\n",
    "        'occupation_code', 'occupation_category_code', 'P5DA', 'RIBP', '8NN1',\n",
    "        '7POT', '66FJ', 'GYSR', 'SOP4', 'RVSZ', 'PYUQ', 'LJR9', 'N2MW', 'AHXO',\n",
    "        'BSTQ', 'FM3X', 'K6QO', 'QBOL', 'JWFN', 'JZ9D', 'J9JW', 'GHYX', 'ECY3', 'product_pred',]\n",
    "\n",
    "test = test[['ID', 'product_pred']]\n",
    "test['ID X PCODE'] = test['ID'] + ' X ' + test['product_pred']\n",
    "del test['ID'], test['product_pred']\n",
    "\n",
    "submit1 = pd.read_csv('0_main.csv')\n",
    "submit2 = pd.read_csv('1_main.csv')\n",
    "submit3 = pd.read_csv('2_main.csv')\n",
    "\n",
    "test = test.merge(submit1, how='left', on='ID X PCODE')\n",
    "test = test.merge(submit2, how='left', on='ID X PCODE')\n",
    "test = test.merge(submit3, how='left', on='ID X PCODE')\n",
    "\n",
    "test.columns = ['ID X PCODE', 'Label1', 'Label2', 'Label3']"
   ]
  },
  {
   "cell_type": "code",
   "execution_count": 5,
   "metadata": {},
   "outputs": [
    {
     "data": {
      "text/html": [
       "<div>\n",
       "<style scoped>\n",
       "    .dataframe tbody tr th:only-of-type {\n",
       "        vertical-align: middle;\n",
       "    }\n",
       "\n",
       "    .dataframe tbody tr th {\n",
       "        vertical-align: top;\n",
       "    }\n",
       "\n",
       "    .dataframe thead th {\n",
       "        text-align: right;\n",
       "    }\n",
       "</style>\n",
       "<table border=\"1\" class=\"dataframe\">\n",
       "  <thead>\n",
       "    <tr style=\"text-align: right;\">\n",
       "      <th></th>\n",
       "      <th>ID X PCODE</th>\n",
       "      <th>Label1</th>\n",
       "      <th>Label2</th>\n",
       "      <th>Label3</th>\n",
       "    </tr>\n",
       "  </thead>\n",
       "  <tbody>\n",
       "    <tr>\n",
       "      <th>0</th>\n",
       "      <td>F86J5PC X P5DA</td>\n",
       "      <td>0.000003</td>\n",
       "      <td>0.000915</td>\n",
       "      <td>0.005931</td>\n",
       "    </tr>\n",
       "    <tr>\n",
       "      <th>1</th>\n",
       "      <td>F86J5PC X RIBP</td>\n",
       "      <td>0.000655</td>\n",
       "      <td>0.000955</td>\n",
       "      <td>0.003241</td>\n",
       "    </tr>\n",
       "    <tr>\n",
       "      <th>2</th>\n",
       "      <td>F86J5PC X 8NN1</td>\n",
       "      <td>0.000007</td>\n",
       "      <td>0.000915</td>\n",
       "      <td>0.005931</td>\n",
       "    </tr>\n",
       "    <tr>\n",
       "      <th>3</th>\n",
       "      <td>F86J5PC X 7POT</td>\n",
       "      <td>0.000062</td>\n",
       "      <td>0.000915</td>\n",
       "      <td>0.005931</td>\n",
       "    </tr>\n",
       "    <tr>\n",
       "      <th>4</th>\n",
       "      <td>F86J5PC X 66FJ</td>\n",
       "      <td>0.000229</td>\n",
       "      <td>0.000915</td>\n",
       "      <td>0.005931</td>\n",
       "    </tr>\n",
       "  </tbody>\n",
       "</table>\n",
       "</div>"
      ],
      "text/plain": [
       "       ID X PCODE    Label1    Label2    Label3\n",
       "0  F86J5PC X P5DA  0.000003  0.000915  0.005931\n",
       "1  F86J5PC X RIBP  0.000655  0.000955  0.003241\n",
       "2  F86J5PC X 8NN1  0.000007  0.000915  0.005931\n",
       "3  F86J5PC X 7POT  0.000062  0.000915  0.005931\n",
       "4  F86J5PC X 66FJ  0.000229  0.000915  0.005931"
      ]
     },
     "execution_count": 5,
     "metadata": {},
     "output_type": "execute_result"
    }
   ],
   "source": [
    "test.head()"
   ]
  },
  {
   "cell_type": "code",
   "execution_count": 6,
   "metadata": {
    "colab": {},
    "colab_type": "code",
    "id": "jHE-oHjOLypy"
   },
   "outputs": [],
   "source": [
    "from catboost import CatBoostClassifier\n",
    "from xgboost import XGBClassifier\n",
    "from lightgbm import LGBMClassifier\n",
    "\n",
    "models = []\n",
    "# models.append(LGBMClassifier(random_state=17, num_trees=300, max_depth = 3))\n",
    "# models.append(LGBMClassifier(random_state=17, num_trees=500, max_depth = 5))\n",
    "models.append(XGBClassifier(learning_rate=0.1675, max_depth=10, gamma=1.976, n_estimators=550))\n",
    "models.append(XGBClassifier(learning_rate=0.1, max_depth=20, gamma=1.576, n_estimators=750))\n",
    "models.append(CatBoostClassifier(random_state=17, num_trees=500, max_depth=3))\n",
    "# models.append(CatBoostClassifier(random_state=17, num_trees=1000, max_depth=5))"
   ]
  },
  {
   "cell_type": "code",
   "execution_count": null,
   "metadata": {
    "colab": {
     "base_uri": "https://localhost:8080/",
     "height": 1000
    },
    "colab_type": "code",
    "id": "uJzMpBFpKTPk",
    "outputId": "47132e7d-9e11-4052-d6a0-28c197baa2b1"
   },
   "outputs": [],
   "source": [
    "for i in range(len(models)):\n",
    "    models[i].fit(fold_train.drop(columns=['target', 'ID X PCODE']), fold_train['target'])"
   ]
  },
  {
   "cell_type": "code",
   "execution_count": null,
   "metadata": {
    "colab": {},
    "colab_type": "code",
    "id": "ZYIuXU46Zjdv"
   },
   "outputs": [],
   "source": [
    "predicts = []\n",
    "for i in range(len(models)):\n",
    "    predicts.append(models[i].predict_proba(test.drop(columns=['ID X PCODE']))[:, 1])"
   ]
  },
  {
   "cell_type": "code",
   "execution_count": null,
   "metadata": {
    "colab": {},
    "colab_type": "code",
    "id": "LHCKCiKeJ2hN"
   },
   "outputs": [],
   "source": [
    "test['target'] = np.mean(predicts, axis=0)"
   ]
  },
  {
   "cell_type": "code",
   "execution_count": null,
   "metadata": {
    "colab": {},
    "colab_type": "code",
    "id": "a9fbWoydKFz_"
   },
   "outputs": [],
   "source": [
    "true_values = []\n",
    "for v in test_.values:\n",
    "    binary = v[8:]\n",
    "    index = [k for k, i in enumerate(binary) if i == 1]\n",
    "    for k in test_.columns[8:][index]:\n",
    "        true_values.append(v[0] + ' X ' + k)"
   ]
  },
  {
   "cell_type": "code",
   "execution_count": null,
   "metadata": {
    "colab": {},
    "colab_type": "code",
    "id": "7I7PehSbO_aj"
   },
   "outputs": [],
   "source": [
    "test = test[['ID X PCODE', 'target']]\n",
    "test.columns = ['ID X PCODE', 'Label']"
   ]
  },
  {
   "cell_type": "code",
   "execution_count": null,
   "metadata": {
    "colab": {},
    "colab_type": "code",
    "id": "nk0Xc4i3Pops"
   },
   "outputs": [],
   "source": [
    "for v in true_values:\n",
    "    test = test.append({'ID X PCODE':v,'Label':1.0}, ignore_index=True)"
   ]
  },
  {
   "cell_type": "code",
   "execution_count": null,
   "metadata": {
    "colab": {},
    "colab_type": "code",
    "id": "vhtM_gg3OoKf"
   },
   "outputs": [],
   "source": [
    "test.reset_index(drop=True, inplace=True)\n",
    "test.to_csv('submission11.csv', index=False)"
   ]
  },
  {
   "cell_type": "markdown",
   "metadata": {
    "colab_type": "text",
    "id": "XxZ0iZNmQyFM"
   },
   "source": [
    "OK"
   ]
  }
 ],
 "metadata": {
  "colab": {
   "name": "Untitled88.ipynb",
   "provenance": []
  },
  "kernelspec": {
   "display_name": "Python 3",
   "language": "python",
   "name": "python3"
  },
  "language_info": {
   "codemirror_mode": {
    "name": "ipython",
    "version": 3
   },
   "file_extension": ".py",
   "mimetype": "text/x-python",
   "name": "python",
   "nbconvert_exporter": "python",
   "pygments_lexer": "ipython3",
   "version": "3.6.10"
  }
 },
 "nbformat": 4,
 "nbformat_minor": 4
}
